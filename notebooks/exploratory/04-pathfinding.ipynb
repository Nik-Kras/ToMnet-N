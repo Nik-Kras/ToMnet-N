{
 "cells": [
  {
   "cell_type": "code",
   "execution_count": 19,
   "metadata": {},
   "outputs": [
    {
     "name": "stdout",
     "output_type": "stream",
     "text": [
      "['games', 'maps']\n"
     ]
    }
   ],
   "source": [
    "import os\n",
    "\n",
    "print(os.listdir(\"../../data\"))"
   ]
  },
  {
   "cell_type": "code",
   "execution_count": 26,
   "metadata": {},
   "outputs": [
    {
     "name": "stdout",
     "output_type": "stream",
     "text": [
      "(36, 36)\n",
      "    0   1   2   3   4   5   6   7   8   9   ...  26  27  28  29  30  31  32  \\\n",
      "0    0   1   0   0   0   0   0   1   0   0  ...   0   0   0   0   0   1   0   \n",
      "1    1   1   1   2   1   1   1   1   0   0  ...   1   1   1   1   1   1   1   \n",
      "2    0   0   0   0   1   0   0   1   0   0  ...   0   0   0   0   0   0   0   \n",
      "3    0   0   0   0   1   0   0   4   0   0  ...   0   0   0   0   0   0   0   \n",
      "4    1   1   1   1   1   0   0   1   0   0  ...   1   1   1   1   1   1   1   \n",
      "5    0   1   0   0   1   0   0   1   0   0  ...   0   0   1   0   0   1   0   \n",
      "6    0   1   0   0   1   0   0   1   0   0  ...   0   0   1   0   0   1   0   \n",
      "7    0   1   1   1   1   0   0   1   1   1  ...   1   1   1   0   0   1   1   \n",
      "8    0   1   0   0   1   0   0   1   0   0  ...   0   0   1   0   0   1   0   \n",
      "9    0   1   0   0   1   0   0   1   0   0  ...   0   0   1   0   0   1   0   \n",
      "10   0   1   1   1   1   0   0   1   1   1  ...   1   1   1   1   1   1   0   \n",
      "11   0   1   0   0   1   0   0   1   0   0  ...   0   0   0   0   0   1   0   \n",
      "12   0   1   0   0   1   0   0   1   0   0  ...   0   0   0   0   0   1   0   \n",
      "13   0   1   1   1   1   1   1   1   0   0  ...   1   1   1   1   1   1   0   \n",
      "14   0   1   0   0   0   0   0   1   0   0  ...   0   0   0   0   0   1   0   \n",
      "15   0   1   0   0   0   0   0   1   0   0  ...   0   0   0   0   0   1   0   \n",
      "16   1   1   0   0   0   0   0   1   1   1  ...   1   1   1   1   1   1   1   \n",
      "17   0   1   0   0   0   0   0   1   0   0  ...   0   0   1   0   0   0   0   \n",
      "18   0   1   0   0   0   0   0   1   0   0  ...   0   0   1   0   0   0   0   \n",
      "19   1   1   1   1   1   1   1   1   1   1  ...   0   0   1   1   1   1   1   \n",
      "20   0   0   0   0   0   0   0   0   0   0  ...   0   0   1   0   0   1   0   \n",
      "21   0   0   0   0   0   0   0   0   0   0  ...   0   0   1   0   0   1   0   \n",
      "22   1   1   1   1   1   1   1   1   1   1  ...   0   0   1   0   0   1   1   \n",
      "23   0   1   0   0   1   0   0   0   0   0  ...   0   0   1   0   0   1   0   \n",
      "24   0   1   0   0   1   0   0   0   0   0  ...   0   0   1   0   0   1   0   \n",
      "25   1   1   1   1   1   1   1   1   1   1  ...   0   0   1   1   1   1   1   \n",
      "26   0   0   0   0   0   0   0   0   0   0  ...   0   0   1   0   0   0   0   \n",
      "27   0   0   0   0   0   0   0   0   0   0  ...   0   0   1   0   0   0   0   \n",
      "28   1   1   1   1   1   1   1   1   1   1  ...   1   1   1   1   1   1   1   \n",
      "29   0   1   0   0   1   0   0   1   0   0  ...   0   0   0   0   0   1   0   \n",
      "30   0   1   0   0   1   0   0   1   0   0  ...   0   0   0   0   0   1   0   \n",
      "31   1   1   0   0   1   1   1   1   0   0  ...   0   0   0   0   0   1   0   \n",
      "32   0   1   0   0   1   0   0   1   0   0  ...   0   0   0   0   0   1   0   \n",
      "33   0   1   0   0   1   0   0   1   0   0  ...   0   0   0   0   0   1   0   \n",
      "34   1   1   1   1   1   0   0   1   0   0  ...   1   1   1   1   1   1   1   \n",
      "35   0   0   0   0   1   0   0   1   0   0  ...   0   0   1   0   0   0   0   \n",
      "\n",
      "    33  34  35  \n",
      "0    0   0   0  \n",
      "1    1   1   1  \n",
      "2    0   0   0  \n",
      "3    0   0   0  \n",
      "4    1   1   1  \n",
      "5    0   0   0  \n",
      "6    0   0   0  \n",
      "7    1   1   1  \n",
      "8    0   5   0  \n",
      "9    0   1   0  \n",
      "10   0   1   0  \n",
      "11   0   1   0  \n",
      "12   0   1   0  \n",
      "13   0   1   1  \n",
      "14   0   1   0  \n",
      "15   0   1   0  \n",
      "16   1   1   1  \n",
      "17   0   0   0  \n",
      "18   0   0   0  \n",
      "19   1   1   1  \n",
      "20   0   1   0  \n",
      "21   0   1   0  \n",
      "22   1   1   1  \n",
      "23   0   0   0  \n",
      "24   0   0   0  \n",
      "25   1   1   1  \n",
      "26   0   0   0  \n",
      "27   0   0   0  \n",
      "28   1   1   1  \n",
      "29   0   1   0  \n",
      "30   0   1   0  \n",
      "31   0   1   0  \n",
      "32   0   1   0  \n",
      "33   0   1   0  \n",
      "34   1   1   0  \n",
      "35   0   1   0  \n",
      "\n",
      "[36 rows x 36 columns]\n"
     ]
    }
   ],
   "source": [
    "import pandas as pd\n",
    "\n",
    "map = pd.read_csv(\"../../data/maps/map_0001.csv\", header=None)\n",
    "print(map.shape)\n",
    "print(map)"
   ]
  },
  {
   "cell_type": "code",
   "execution_count": 5,
   "metadata": {},
   "outputs": [
    {
     "name": "stdout",
     "output_type": "stream",
     "text": [
      "operations: 8 path length: 5\n",
      "+---+\n",
      "|sxx|\n",
      "| #x|\n",
      "|  e|\n",
      "+---+\n"
     ]
    }
   ],
   "source": [
    "from pathfinding.core.diagonal_movement import DiagonalMovement\n",
    "from pathfinding.core.grid import Grid\n",
    "from pathfinding.finder.a_star import AStarFinder\n",
    "\n",
    "matrix = [\n",
    "  [1, 1, 1],\n",
    "  [1, 0, 1],\n",
    "  [1, 1, 1]\n",
    "]\n",
    "grid = Grid(matrix=matrix)\n",
    "\n",
    "start = grid.node(0, 0)\n",
    "end = grid.node(2, 2)\n",
    "\n",
    "finder = AStarFinder(diagonal_movement=DiagonalMovement.never)\n",
    "path, runs = finder.find_path(start, end, grid)\n",
    "\n",
    "print('operations:', runs, 'path length:', len(path))\n",
    "print(grid.grid_str(path=path, start=start, end=end))"
   ]
  },
  {
   "cell_type": "code",
   "execution_count": 6,
   "metadata": {},
   "outputs": [
    {
     "name": "stdout",
     "output_type": "stream",
     "text": [
      "[(0, 0), (1, 0), (2, 0), (2, 1), (2, 2)]\n"
     ]
    }
   ],
   "source": [
    "print(path)"
   ]
  }
 ],
 "metadata": {
  "kernelspec": {
   "display_name": "tomnet_n",
   "language": "python",
   "name": "python3"
  },
  "language_info": {
   "codemirror_mode": {
    "name": "ipython",
    "version": 3
   },
   "file_extension": ".py",
   "mimetype": "text/x-python",
   "name": "python",
   "nbconvert_exporter": "python",
   "pygments_lexer": "ipython3",
   "version": "3.10.9"
  },
  "orig_nbformat": 4
 },
 "nbformat": 4,
 "nbformat_minor": 2
}
