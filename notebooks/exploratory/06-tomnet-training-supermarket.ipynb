{
 "cells": [
  {
   "attachments": {},
   "cell_type": "markdown",
   "metadata": {},
   "source": [
    "This notebook covers concepts of new ToMnet-N version training on new task: supermarket\n",
    "\n",
    "It covers:\n",
    "- How ToMnet-N is constructed [Architecture + implementation with functional API]\n",
    "- How ToMnet-N interprets game data [pre-processing and decomposition]\n",
    "- Visualisation of ToMnet-N predictions"
   ]
  },
  {
   "cell_type": "code",
   "execution_count": null,
   "metadata": {},
   "outputs": [],
   "source": []
  }
 ],
 "metadata": {
  "language_info": {
   "name": "python"
  },
  "orig_nbformat": 4
 },
 "nbformat": 4,
 "nbformat_minor": 2
}
