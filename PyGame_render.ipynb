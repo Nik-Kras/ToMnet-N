{
  "nbformat": 4,
  "nbformat_minor": 0,
  "metadata": {
    "colab": {
      "provenance": [],
      "collapsed_sections": [],
      "authorship_tag": "ABX9TyMxO3QhzhY8skAfwww2UZbJ",
      "include_colab_link": true
    },
    "kernelspec": {
      "name": "python3",
      "display_name": "Python 3"
    },
    "language_info": {
      "name": "python"
    }
  },
  "cells": [
    {
      "cell_type": "markdown",
      "metadata": {
        "id": "view-in-github",
        "colab_type": "text"
      },
      "source": [
        "<a href=\"https://colab.research.google.com/github/Nik-Kras/ToMnet-N/blob/main/PyGame_render.ipynb\" target=\"_parent\"><img src=\"https://colab.research.google.com/assets/colab-badge.svg\" alt=\"Open In Colab\"/></a>"
      ]
    },
    {
      "cell_type": "markdown",
      "source": [
        "# 1. Setting Drawing Functions"
      ],
      "metadata": {
        "id": "kf1SXridhE1n"
      }
    },
    {
      "cell_type": "code",
      "source": [
        "!pip install pygame"
      ],
      "metadata": {
        "colab": {
          "base_uri": "https://localhost:8080/"
        },
        "id": "dSxMocLv6Ils",
        "outputId": "5393426c-3dfe-4352-d236-61e0164d141e"
      },
      "execution_count": 647,
      "outputs": [
        {
          "output_type": "stream",
          "name": "stdout",
          "text": [
            "Looking in indexes: https://pypi.org/simple, https://us-python.pkg.dev/colab-wheels/public/simple/\n",
            "Requirement already satisfied: pygame in /usr/local/lib/python3.7/dist-packages (2.1.2)\n"
          ]
        }
      ]
    },
    {
      "cell_type": "code",
      "source": [
        "import sys\n",
        " \n",
        "print(\"User Current Version:-\", sys.version)"
      ],
      "metadata": {
        "id": "etMRY8X2iChE",
        "outputId": "a86b39b7-6427-4d5e-db2b-2b56525e295d",
        "colab": {
          "base_uri": "https://localhost:8080/"
        }
      },
      "execution_count": 648,
      "outputs": [
        {
          "output_type": "stream",
          "name": "stdout",
          "text": [
            "User Current Version:- 3.7.14 (default, Sep  8 2022, 00:06:44) \n",
            "[GCC 7.5.0]\n"
          ]
        }
      ]
    },
    {
      "cell_type": "code",
      "source": [
        "import cv2\n",
        "from google.colab.patches import cv2_imshow\n",
        "from google.colab import output\n",
        "import time \n",
        "import os, sys\n",
        "\n",
        "# set SDL to use the dummy NULL video driver, \n",
        "#   so it doesn't need a windowing system.\n",
        "os.environ[\"SDL_VIDEODRIVER\"] = \"dummy\""
      ],
      "metadata": {
        "id": "-HLYDP4C7ChU"
      },
      "execution_count": 649,
      "outputs": []
    },
    {
      "cell_type": "markdown",
      "source": [
        "## 1.1 Testing Drawing"
      ],
      "metadata": {
        "id": "4QGGp5rHhexy"
      }
    },
    {
      "cell_type": "code",
      "source": [
        "import pygame\n",
        "\n",
        "pygame.init()\n",
        "screen = pygame.display.set_mode((400, 300))\n",
        "done = False\n",
        "is_blue = True\n",
        "x = 30\n",
        "y = 30\n",
        "\n",
        "for event in pygame.event.get():\n",
        "        if event.type == pygame.QUIT:\n",
        "                done = True\n",
        "\n",
        "color = (255, 100, 0)\n",
        "pygame.draw.rect(screen, color, pygame.Rect(x, y, 60, 60))\n",
        "\n",
        "pygame.display.flip()\n",
        "\n",
        "#convert image so it can be displayed in OpenCV\n",
        "view = pygame.surfarray.array3d(screen)\n",
        "\n",
        "#  convert from (width, height, channel) to (height, width, channel)\n",
        "view = view.transpose([1, 0, 2])\n",
        "\n",
        "#  convert from rgb to bgr\n",
        "img_bgr = cv2.cvtColor(view, cv2.COLOR_RGB2BGR)\n",
        "\n",
        "#Display image, clear cell every 0.5 seconds\n",
        "cv2_imshow(img_bgr)"
      ],
      "metadata": {
        "colab": {
          "base_uri": "https://localhost:8080/",
          "height": 317
        },
        "id": "3-5Qe0ka7S4h",
        "outputId": "99137e67-2085-4e57-fee4-2fe41cac5cc7"
      },
      "execution_count": 650,
      "outputs": [
        {
          "output_type": "display_data",
          "data": {
            "text/plain": [
              "<PIL.Image.Image image mode=RGB size=400x300 at 0x7F70ED03E150>"
            ],
            "image/png": "[encoded data removed]"
          },
          "metadata": {}
        }
      ]
    },
    {
      "cell_type": "markdown",
      "source": [
        "## 1.2 Functions to Draw simple figures"
      ],
      "metadata": {
        "id": "KbVaP5-Qhl-i"
      }
    },
    {
      "cell_type": "code",
      "source": [
        "from math import sin, cos, pi, radians\n",
        "from sys import exit as _exit\n",
        "\n",
        "def makeTriangle(scale, internalAngle, rotation):\n",
        "    #define the points in a uint space\n",
        "    ia = (radians(internalAngle) * 2) - 1\n",
        "    p1 = (0, -1)\n",
        "    p2 = (cos(ia), sin(ia))\n",
        "    p3 = (cos(ia) * -1, sin(ia))\n",
        "\n",
        "    #rotate the points\n",
        "    ra = radians(rotation)\n",
        "    rp1x = p1[0] * cos(ra) - p1[1] * sin(ra)\n",
        "    rp1y = p1[0] * sin(ra) + p1[1] * cos(ra)                 \n",
        "    rp2x = p2[0] * cos(ra) - p2[1] * sin(ra)\n",
        "    rp2y = p2[0] * sin(ra) + p2[1] * cos(ra)                        \n",
        "    rp3x = p3[0] * cos(ra) - p3[1] * sin(ra)                         \n",
        "    rp3y = p3[0] * sin(ra) + p3[1] * cos(ra)\n",
        "    rp1 = ( rp1x, rp1y )\n",
        "    rp2 = ( rp2x, rp2y )\n",
        "    rp3 = ( rp3x, rp3y )\n",
        "\n",
        "    #scale the points \n",
        "    sp1 = [rp1[0] * scale, rp1[1] * scale]\n",
        "    sp2 = [rp2[0] * scale, rp2[1] * scale]\n",
        "    sp3 = [rp3[0] * scale, rp3[1] * scale]\n",
        "\n",
        "    return sp1, sp2, sp3"
      ],
      "metadata": {
        "id": "0vtPVyxr86iA"
      },
      "execution_count": 651,
      "outputs": []
    },
    {
      "cell_type": "markdown",
      "source": [
        "## 1.3 Function to draw map"
      ],
      "metadata": {
        "id": "UaJ8zhO4iCc_"
      }
    },
    {
      "cell_type": "code",
      "source": [
        "def draw_cool_map(WIDTH, HEIGHT, simple_map, actions):\n",
        "\n",
        "  STEP = 30\n",
        "\n",
        "  pygame.init()\n",
        "  screen = pygame.display.set_mode((STEP*(WIDTH+2), STEP*(HEIGHT+2)))\n",
        "  done = False\n",
        "  is_blue = True\n",
        "  x = 30\n",
        "  y = 30\n",
        "\n",
        "  # color of background\n",
        "  color = (51, 51, 51)\n",
        "    \n",
        "  # Changing surface color\n",
        "  screen.fill(color)\n",
        "\n",
        "  # color of path\n",
        "  # color = (255, 250, 205) # LemonChiffon\n",
        "  color = (255, 250, 225)\n",
        "\n",
        "  print(\"simple_map: \", simple_map)\n",
        "  print(\"simple_map[0][0]: \", simple_map[0][0])\n",
        "\n",
        "  # Create path\n",
        "  for i in range(WIDTH):\n",
        "    for j in range(HEIGHT):\n",
        "      if simple_map[i][j] != 0:\n",
        "        pygame.draw.rect(screen, color, pygame.Rect((i+1)*STEP, (j+1)*STEP, \n",
        "                                                    STEP, STEP))\n",
        "        \n",
        "  color = (0, 0, 0)      \n",
        "  # Create borders\n",
        "  pygame.draw.rect(screen, color, pygame.Rect(0, 0, STEP, STEP*(WIDTH+2)))\n",
        "  pygame.draw.rect(screen, color, pygame.Rect(0, 0, STEP*(HEIGHT+2), STEP))\n",
        "  pygame.draw.rect(screen, color, pygame.Rect(0, STEP*(HEIGHT+1), STEP*(WIDTH+2), STEP))\n",
        "  pygame.draw.rect(screen, color, pygame.Rect(STEP*(WIDTH+1), 0, STEP, STEP*(WIDTH+2)))\n",
        "\n",
        "  color = (255,0,255)\n",
        "  player_postition = []\n",
        "  # Create player\n",
        "  for i in range(WIDTH):\n",
        "    for j in range(HEIGHT):\n",
        "      if simple_map[i][j] == 10:\n",
        "        pygame.draw.circle(screen, color, center=((i+1)*STEP+STEP/2, (j+1)*STEP+STEP/2), \n",
        "                           radius = STEP/2)\n",
        "        player_postition = [(i+1)*STEP, (j+1)*STEP]\n",
        "        \n",
        "        \n",
        "  #q = STEP/3\n",
        "  q = 0\n",
        "  r = 0\n",
        "  # Create goals\n",
        "  for i in range(WIDTH):\n",
        "    for j in range(HEIGHT):\n",
        "      if simple_map[i][j] == 2:\n",
        "        #color = (255,0,0)  # Red\n",
        "        color = (230,0,0)\n",
        "        pygame.draw.rect(screen, color, pygame.Rect((i+1)*STEP + q/2, (j+1)*STEP + q/2, \n",
        "                                                    STEP - q, STEP - q), border_radius=r)\n",
        "      elif simple_map[i][j] == 3:\n",
        "        #color = (0,255,0)  # Green\n",
        "        color = (0,230,0)\n",
        "        pygame.draw.rect(screen, color, pygame.Rect((i+1)*STEP + q/2, (j+1)*STEP + q/2, \n",
        "                                                    STEP - q, STEP - q), border_radius=r)\n",
        "        \n",
        "      elif simple_map[i][j] == 4:\n",
        "        #color = (0,255,255) # Cyan\n",
        "        color = (0,230,230) # Teal/Cyan\n",
        "        pygame.draw.rect(screen, color, pygame.Rect((i+1)*STEP + q/2, (j+1)*STEP + q/2, \n",
        "                                                    STEP - q, STEP - q), border_radius=r)\n",
        "        \n",
        "      elif simple_map[i][j] == 5:\n",
        "        # color = (0,0,255)  # Blue\n",
        "        color = (0,0,230)\n",
        "        pygame.draw.rect(screen, color, pygame.Rect((i+1)*STEP + q/2, (j+1)*STEP + q/2, \n",
        "                                                    STEP - q, STEP - q), border_radius=r)\n",
        "\n",
        "  color = (128,0,0)\n",
        "  # Create trajectory\n",
        "  for action in actions:\n",
        "    if action == 1:\n",
        "      new_y = player_postition[0] \n",
        "      new_x = player_postition[1]\n",
        "      line1, line2, line3 = makeTriangle(STEP/4, 60, 270)\n",
        "\n",
        "    elif action == 2:\n",
        "      new_y = player_postition[0]\n",
        "      new_x = player_postition[1] + STEP\n",
        "      line1, line2, line3 = makeTriangle(STEP/4, 60, 180)\n",
        "\n",
        "    elif action == 3:\n",
        "      new_y = player_postition[0] + STEP\n",
        "      new_x = player_postition[1] \n",
        "      line1, line2, line3 = makeTriangle(STEP/4, 60, 90)\n",
        "    elif action == 4:\n",
        "      new_y = player_postition[0] - STEP\n",
        "      new_x = player_postition[1]\n",
        "      line1, line2, line3 = makeTriangle(STEP/4, 60, 0)\n",
        "    \n",
        "    \n",
        "    line1[0] = line1[0] + new_y + STEP/2\n",
        "    line1[1] = line1[1] + new_x + STEP/2\n",
        "    line2[0] = line2[0] + new_y + STEP/2\n",
        "    line2[1] = line2[1] + new_x + STEP/2\n",
        "    line3[0] = line3[0] + new_y + STEP/2\n",
        "    line3[1] = line3[1] + new_x + STEP/2\n",
        "    pygame.draw.lines(screen, color, points=[line3, line1, line2], width=3, closed=False)\n",
        "    player_postition = [new_y, new_x]\n",
        "\n",
        "  view = pygame.surfarray.array3d(screen)\n",
        "  #  convert from (width, height, channel) to (height, width, channel)\n",
        "  #view = view.transpose([1, 0, 2])\n",
        "  #  convert from rgb to bgr\n",
        "  img_bgr = cv2.cvtColor(view, cv2.COLOR_RGB2BGR)\n",
        "  #Display image, clear cell every 0.5 seconds\n",
        "  cv2_imshow(img_bgr)"
      ],
      "metadata": {
        "id": "2mCaEWN2iIEA"
      },
      "execution_count": 652,
      "outputs": []
    },
    {
      "cell_type": "markdown",
      "source": [
        "## 1.5 Testing Map Drawing"
      ],
      "metadata": {
        "id": "HiungXZ6iJTV"
      }
    },
    {
      "cell_type": "code",
      "source": [
        "ROWS = 21\n",
        "COLS = 21\n",
        "\n",
        "# env = GridWorld(tot_row=ROWS, tot_col=COLS, consume_goals=1, shaffle=False)\n",
        "# env.reset()\n",
        "# simple_map = env.draw_map()\n",
        "# print(simple_map)\n",
        "\n",
        "old_map = [[ 0,1,0,0,0,0,0,1,0,0,0,0,0,1,0,0,1,0,0,1,0],\n",
        " [ 0,1,1,1,1,1,1,10,1,1,1,1,1,1,1,1,1,0,0,1,1],\n",
        " [ 0,1,0,0,1,0,0,0,0,0,3,0,0,0,0,0,1,0,0,1,0],\n",
        " [ 0,1,0,0,1,0,0,0,0,0,1,0,0,0,0,0,1,0,0,1,0],\n",
        " [ 0,1,0,0,1,1,1,1,1,1,1,0,0,0,0,0,1,0,0,1,1],\n",
        " [ 0,1,0,0,1,0,0,1,0,0,1,0,0,0,0,0,1,0,0,1,0],\n",
        " [ 0,1,0,0,1,0,0,1,0,0,1,0,0,0,0,0,1,0,0,1,0],\n",
        " [ 0,1,0,0,1,0,0,1,0,0,5,1,1,1,1,1,1,0,0,1,0],\n",
        " [ 0,1,0,0,1,0,0,1,0,0,1,0,0,0,0,0,1,0,0,1,0],\n",
        " [ 0,1,0,0,1,0,0,1,0,0,1,0,0,0,0,0,1,0,0,1,0],\n",
        " [ 0,1,0,0,1,0,0,1,1,1,1,1,1,1,4,1,1,0,0,1,1],\n",
        " [ 0,1,0,0,1,0,0,1,0,0,0,0,0,0,0,0,1,0,0,1,0],\n",
        " [ 1,1,1,1,1,0,0,1,1,1,1,1,1,1,1,1,1,0,0,1,0],\n",
        " [ 0,0,0,0,1,0,0,1,0,0,0,0,0,0,0,0,1,0,0,1,0],\n",
        " [ 0,0,0,0,1,0,0,1,0,0,0,0,0,0,0,0,1,0,0,1,0],\n",
        " [ 1,1,1,1,1,1,1,1,1,1,2,1,1,1,1,1,1,1,1,1,1],\n",
        " [ 0,1,0,0,0,0,0,0,0,0,1,0,0,0,0,0,0,0,0,0,0],\n",
        " [ 0,1,0,0,0,0,0,0,0,0,1,0,0,0,0,0,0,0,0,0,0],\n",
        " [ 1,1,0,0,0,0,0,0,0,0,1,1,1,1,1,1,1,1,1,1,1],\n",
        " [ 1,1,0,0,0,0,0,0,0,0,1,1,1,1,1,1,1,1,1,1,1],\n",
        " [ 0,1,0,0,0,0,0,0,0,0,1,0,0,1,0,0,1,0,0,1,0]]\n",
        "actions = [2] * 9 + [3, 3, 3]\n",
        "print(len(old_map))\n",
        "\n",
        "print(actions)\n",
        "\n",
        "draw_cool_map(ROWS, COLS, old_map, actions)"
      ],
      "metadata": {
        "colab": {
          "base_uri": "https://localhost:8080/",
          "height": 796
        },
        "id": "38Ik6LYh8i2d",
        "outputId": "f0fef8d0-1fc3-4346-f6f9-62c775b138ab"
      },
      "execution_count": 653,
      "outputs": [
        {
          "output_type": "stream",
          "name": "stdout",
          "text": [
            "21\n",
            "[2, 2, 2, 2, 2, 2, 2, 2, 2, 3, 3, 3]\n",
            "simple_map:  [[0, 1, 0, 0, 0, 0, 0, 1, 0, 0, 0, 0, 0, 1, 0, 0, 1, 0, 0, 1, 0], [0, 1, 1, 1, 1, 1, 1, 10, 1, 1, 1, 1, 1, 1, 1, 1, 1, 0, 0, 1, 1], [0, 1, 0, 0, 1, 0, 0, 0, 0, 0, 3, 0, 0, 0, 0, 0, 1, 0, 0, 1, 0], [0, 1, 0, 0, 1, 0, 0, 0, 0, 0, 1, 0, 0, 0, 0, 0, 1, 0, 0, 1, 0], [0, 1, 0, 0, 1, 1, 1, 1, 1, 1, 1, 0, 0, 0, 0, 0, 1, 0, 0, 1, 1], [0, 1, 0, 0, 1, 0, 0, 1, 0, 0, 1, 0, 0, 0, 0, 0, 1, 0, 0, 1, 0], [0, 1, 0, 0, 1, 0, 0, 1, 0, 0, 1, 0, 0, 0, 0, 0, 1, 0, 0, 1, 0], [0, 1, 0, 0, 1, 0, 0, 1, 0, 0, 5, 1, 1, 1, 1, 1, 1, 0, 0, 1, 0], [0, 1, 0, 0, 1, 0, 0, 1, 0, 0, 1, 0, 0, 0, 0, 0, 1, 0, 0, 1, 0], [0, 1, 0, 0, 1, 0, 0, 1, 0, 0, 1, 0, 0, 0, 0, 0, 1, 0, 0, 1, 0], [0, 1, 0, 0, 1, 0, 0, 1, 1, 1, 1, 1, 1, 1, 4, 1, 1, 0, 0, 1, 1], [0, 1, 0, 0, 1, 0, 0, 1, 0, 0, 0, 0, 0, 0, 0, 0, 1, 0, 0, 1, 0], [1, 1, 1, 1, 1, 0, 0, 1, 1, 1, 1, 1, 1, 1, 1, 1, 1, 0, 0, 1, 0], [0, 0, 0, 0, 1, 0, 0, 1, 0, 0, 0, 0, 0, 0, 0, 0, 1, 0, 0, 1, 0], [0, 0, 0, 0, 1, 0, 0, 1, 0, 0, 0, 0, 0, 0, 0, 0, 1, 0, 0, 1, 0], [1, 1, 1, 1, 1, 1, 1, 1, 1, 1, 2, 1, 1, 1, 1, 1, 1, 1, 1, 1, 1], [0, 1, 0, 0, 0, 0, 0, 0, 0, 0, 1, 0, 0, 0, 0, 0, 0, 0, 0, 0, 0], [0, 1, 0, 0, 0, 0, 0, 0, 0, 0, 1, 0, 0, 0, 0, 0, 0, 0, 0, 0, 0], [1, 1, 0, 0, 0, 0, 0, 0, 0, 0, 1, 1, 1, 1, 1, 1, 1, 1, 1, 1, 1], [1, 1, 0, 0, 0, 0, 0, 0, 0, 0, 1, 1, 1, 1, 1, 1, 1, 1, 1, 1, 1], [0, 1, 0, 0, 0, 0, 0, 0, 0, 0, 1, 0, 0, 1, 0, 0, 1, 0, 0, 1, 0]]\n",
            "simple_map[0][0]:  0\n"
          ]
        },
        {
          "output_type": "display_data",
          "data": {
            "text/plain": [
              "<PIL.Image.Image image mode=RGB size=690x690 at 0x7F70ECE94350>"
            ],
            "image/png": "[encoded data removed]"
          },
          "metadata": {}
        }
      ]
    },
    {
      "cell_type": "markdown",
      "source": [
        "## 1.6 Function to draw map from pandas"
      ],
      "metadata": {
        "id": "93BYAgFRvLRL"
      }
    },
    {
      "cell_type": "code",
      "source": [
        "def draw_pandas_map(WIDTH, HEIGHT, pandas_map, initial, predicted):\n",
        "\n",
        "  STEP = 30\n",
        "\n",
        "  pygame.init()\n",
        "  screen = pygame.display.set_mode((STEP*(WIDTH+2), STEP*(HEIGHT+2)))\n",
        "  done = False\n",
        "  is_blue = True\n",
        "  x = 30\n",
        "  y = 30\n",
        "\n",
        "  # --------------------------------------------------------\n",
        "  # 1. Draw initial trajectory + predict\n",
        "  # --------------------------------------------------------\n",
        "\n",
        "  # color of background\n",
        "  color = (51, 51, 51)\n",
        "    \n",
        "  # Changing surface color\n",
        "  screen.fill(color)\n",
        "\n",
        "  # color of path\n",
        "  # color = (255, 250, 205) # LemonChiffon\n",
        "  color = (255, 250, 225)\n",
        "\n",
        "  simple_map = np.array(pandas_map)\n",
        "\n",
        "  # Create path\n",
        "  for i in range(WIDTH):\n",
        "    for j in range(HEIGHT):\n",
        "      if simple_map[i, j] != 1:\n",
        "        pygame.draw.rect(screen, color, pygame.Rect((i+1)*STEP, (j+1)*STEP, \n",
        "                                                    STEP, STEP))\n",
        "        \n",
        "  color = (0, 0, 0)      \n",
        "  # Create borders\n",
        "  pygame.draw.rect(screen, color, pygame.Rect(0, 0, STEP, STEP*(WIDTH+2)))\n",
        "  pygame.draw.rect(screen, color, pygame.Rect(0, 0, STEP*(HEIGHT+2), STEP))\n",
        "  pygame.draw.rect(screen, color, pygame.Rect(0, STEP*(HEIGHT+1), STEP*(WIDTH+2), STEP))\n",
        "  pygame.draw.rect(screen, color, pygame.Rect(STEP*(WIDTH+1), 0, STEP, STEP*(WIDTH+2)))\n",
        "\n",
        "  color = (255,0,255)\n",
        "  player_postition = []\n",
        "  # Create player\n",
        "  for i in range(WIDTH):\n",
        "    for j in range(HEIGHT):\n",
        "      if simple_map[i][j] == 10:\n",
        "        pygame.draw.circle(screen, color, center=(i*STEP+STEP/2, (j+1)*STEP+STEP/2), \n",
        "                           radius = STEP/2)\n",
        "        player_postition = [(i+1)*STEP, (j+1)*STEP]\n",
        "        \n",
        "        \n",
        "  #q = STEP/3\n",
        "  q = 0\n",
        "  r = 0\n",
        "  # Create goals\n",
        "  for i in range(WIDTH):\n",
        "    for j in range(HEIGHT):\n",
        "      if simple_map[i][j] == 2:\n",
        "        #color = (255,0,0)  # Red\n",
        "        color = (230,0,0)\n",
        "        pygame.draw.rect(screen, color, pygame.Rect((i+1)*STEP + q/2, (j+1)*STEP + q/2, \n",
        "                                                    STEP - q, STEP - q), border_radius=r)\n",
        "      elif simple_map[i][j] == 3:\n",
        "        #color = (0,255,0)  # Green\n",
        "        color = (0,230,0)\n",
        "        pygame.draw.rect(screen, color, pygame.Rect((i+1)*STEP + q/2, (j+1)*STEP + q/2, \n",
        "                                                    STEP - q, STEP - q), border_radius=r)\n",
        "        \n",
        "      elif simple_map[i][j] == 4:\n",
        "        #color = (0,255,255) # Cyan\n",
        "        color = (0,230,230) # Teal/Cyan\n",
        "        pygame.draw.rect(screen, color, pygame.Rect((i+1)*STEP + q/2, (j+1)*STEP + q/2, \n",
        "                                                    STEP - q, STEP - q), border_radius=r)\n",
        "        \n",
        "      elif simple_map[i][j] == 5:\n",
        "        # color = (0,0,255)  # Blue\n",
        "        color = (0,0,230)\n",
        "        pygame.draw.rect(screen, color, pygame.Rect((i+1)*STEP + q/2, (j+1)*STEP + q/2, \n",
        "                                                    STEP - q, STEP - q), border_radius=r)\n",
        "\n",
        "  # --------------------------------------------------------\n",
        "  # 1.1 Draw initial trajectory and Predict trajectory\n",
        "  # --------------------------------------------------------\n",
        "  def draw_traj(traj, color=(0,220,0), prev_location = None):\n",
        "    line1 = 0\n",
        "    line2 = 0\n",
        "    line3 = 0\n",
        "    color = color\n",
        "    # Create trajectory\n",
        "    \n",
        "    traj2 = []\n",
        "    if prev_location is None:\n",
        "      print(\"No prev position\")\n",
        "    else:\n",
        "      traj2 = [[0,0]] * (traj.shape[0]+1)\n",
        "      traj2[0] = prev_location\n",
        "      traj2[1:] = traj\n",
        "      traj = np.array(traj2.copy())\n",
        "\n",
        "    # print(\"Trajectory: \", traj)\n",
        "    # print(\"Shape: \", traj.shape)\n",
        "\n",
        "    for i in range(traj.shape[0]-1):\n",
        "\n",
        "      position = traj[i]\n",
        "      future_position = traj[i+1]\n",
        "\n",
        "      # print(\"Current Position for trajectory: \", position)\n",
        "      # print(\"Future Position for trajectory: \", future_position)\n",
        "\n",
        "      # Define the action for the current position\n",
        "      action = 0\n",
        "      if position[0] > future_position[0]:\n",
        "        action = 0  # Row decreased, go UP\n",
        "      elif position[0] < future_position[0]:\n",
        "        acrion = 2 # Row increased, go DOWN\n",
        "      elif position[1] > future_position[1]:\n",
        "        action = 3 # Col decreased, go LEFT\n",
        "      elif position[1] < future_position[1]:\n",
        "        action = 1 # Col increased, go RIGHT\n",
        "      else:\n",
        "        action = 10 # Special value for NO ACTION\n",
        "\n",
        "      # Draw triangle based on action\n",
        "      if action == 0:\n",
        "        line1, line2, line3 = makeTriangle(STEP/4, 60, 90)\n",
        "      elif action == 1:\n",
        "        line1, line2, line3 = makeTriangle(STEP/4, 60, 180)\n",
        "      elif action == 2:\n",
        "        line1, line2, line3 = makeTriangle(STEP/4, 60, 270)\n",
        "      elif action == 3:\n",
        "        line1, line2, line3 = makeTriangle(STEP/4, 60, 0)\n",
        "\n",
        "      new_y = position[0] * STEP + STEP\n",
        "      new_x = position[1] * STEP + STEP\n",
        "\n",
        "      # print(\"action: \", action)\n",
        "      # print(\"new_y: \", new_y)\n",
        "      # print(\"new_x: \", new_x)\n",
        "\n",
        "      if action < 9:\n",
        "        line1[0] = line1[0] + new_y + STEP/2\n",
        "        line1[1] = line1[1] + new_x + STEP/2\n",
        "        line2[0] = line2[0] + new_y + STEP/2\n",
        "        line2[1] = line2[1] + new_x + STEP/2\n",
        "        line3[0] = line3[0] + new_y + STEP/2\n",
        "        line3[1] = line3[1] + new_x + STEP/2\n",
        "        pygame.draw.lines(screen, color, points=[line3, line1, line2], width=3, closed=False)\n",
        "        player_postition = [new_y, new_x]\n",
        "\n",
        "  draw_traj(initial, color=(0, 220, 0))\n",
        "  draw_traj(predicted, color=(220, 0, 0), prev_location=initial[-1])\n",
        "\n",
        "  # print(\"predicted: \", predicted)\n",
        "\n",
        "  view = pygame.surfarray.array3d(screen)\n",
        "  #  convert from (width, height, channel) to (height, width, channel)\n",
        "  #view = view.transpose([1, 0, 2])\n",
        "  #  convert from rgb to bgr\n",
        "  img_bgr = cv2.cvtColor(view, cv2.COLOR_RGB2BGR)\n",
        "  #Display image, clear cell every 0.5 seconds\n",
        "  cv2_imshow(img_bgr)\n",
        "\n",
        "def draw_pandas_map_full(WIDTH, HEIGHT, pandas_map, full):\n",
        "\n",
        "  STEP = 30\n",
        "  pygame.init()\n",
        "  screen = pygame.display.set_mode((STEP*(WIDTH+2), STEP*(HEIGHT+2)))\n",
        "  done = False\n",
        "  is_blue = True\n",
        "  x = 30\n",
        "  y = 30\n",
        "\n",
        "  Second_Figure_Shift = STEP*(HEIGHT+4)\n",
        "\n",
        "  # color of background\n",
        "  color = (51, 51, 51)\n",
        "    \n",
        "  # Changing surface color\n",
        "  screen.fill(color)\n",
        "\n",
        "  # color = (255, 250, 205) # LemonChiffon\n",
        "  color = (255, 250, 225)\n",
        "\n",
        "  simple_map = np.array(pandas_map)\n",
        "\n",
        "  # Create path\n",
        "  for i in range(WIDTH):\n",
        "    for j in range(HEIGHT):\n",
        "      if simple_map[i, j] != 1:\n",
        "        pygame.draw.rect(screen, color, pygame.Rect((i+1)*STEP, (j+1)*STEP, \n",
        "                                                    STEP, STEP))\n",
        "        \n",
        "  color = (0, 0, 0)      \n",
        "  # Create borders\n",
        "  pygame.draw.rect(screen, color, pygame.Rect(0, 0, STEP, STEP*(WIDTH+2)))\n",
        "  pygame.draw.rect(screen, color, pygame.Rect(0, 0, STEP*(HEIGHT+2), STEP))\n",
        "  pygame.draw.rect(screen, color, pygame.Rect(0, STEP*(HEIGHT+1), STEP*(WIDTH+2), STEP))\n",
        "  pygame.draw.rect(screen, color, pygame.Rect(STEP*(WIDTH+1), 0, STEP, STEP*(WIDTH+2)))\n",
        "\n",
        "  color = (255,0,255)\n",
        "  player_postition = []\n",
        "  # Create player\n",
        "  for i in range(WIDTH):\n",
        "    for j in range(HEIGHT):\n",
        "      if simple_map[i][j] == 10:\n",
        "        pygame.draw.circle(screen, color, center=((i+1)*STEP+STEP/2, (j+1)*STEP+STEP/2 ), \n",
        "                           radius = STEP/2)\n",
        "        player_postition = [(i+1)*STEP, (j+1)*STEP ]\n",
        "        \n",
        "        \n",
        "  #q = STEP/3\n",
        "  q = 0\n",
        "  r = 0\n",
        "  # Create goals\n",
        "  for i in range(WIDTH):\n",
        "    for j in range(HEIGHT):\n",
        "      if simple_map[i][j] == 2:\n",
        "        #color = (255,0,0)  # Red\n",
        "        color = (230,0,0)\n",
        "        pygame.draw.rect(screen, color, pygame.Rect((i+1)*STEP + q/2, (j+1)*STEP + q/2 , \n",
        "                                                    STEP - q, STEP - q), border_radius=r)\n",
        "      elif simple_map[i][j] == 3:\n",
        "        #color = (0,255,0)  # Green\n",
        "        color = (0,230,0)\n",
        "        pygame.draw.rect(screen, color, pygame.Rect((i+1)*STEP + q/2, (j+1)*STEP + q/2 , \n",
        "                                                    STEP - q, STEP - q), border_radius=r)\n",
        "        \n",
        "      elif simple_map[i][j] == 4:\n",
        "        #color = (0,255,255) # Cyan\n",
        "        color = (0,230,230) # Teal/Cyan\n",
        "        pygame.draw.rect(screen, color, pygame.Rect((i+1)*STEP + q/2, (j+1)*STEP + q/2 , \n",
        "                                                    STEP - q, STEP - q), border_radius=r)\n",
        "        \n",
        "      elif simple_map[i][j] == 5:\n",
        "        # color = (0,0,255)  # Blue\n",
        "        color = (0,0,230)\n",
        "        pygame.draw.rect(screen, color, pygame.Rect((i+1)*STEP + q/2, (j+1)*STEP + q/2 , \n",
        "                                                    STEP - q, STEP - q), border_radius=r)\n",
        "\n",
        "  # --------------------------------------------------------\n",
        "  # 1.1 Draw initial trajectory and Predict trajectory\n",
        "  # --------------------------------------------------------\n",
        "  def draw_full_traj(traj, color=(0,220,0), prev_location = None):\n",
        "    line1 = 0\n",
        "    line2 = 0\n",
        "    line3 = 0\n",
        "    color = color\n",
        "\n",
        "    # Create trajectory\n",
        "    for i in range(traj.shape[0]-1):\n",
        "      position = traj[i]\n",
        "      future_position = traj[i+1]\n",
        "      # print(\"Current Position for trajectory: \", position)\n",
        "      # print(\"Future Position for trajectory: \", position)\n",
        "\n",
        "      # Define the action for the current position\n",
        "      action = 0\n",
        "      if position[0] > future_position[0]:\n",
        "        action = 0  # Row decreased, go UP\n",
        "      elif position[0] < future_position[0]:\n",
        "        acrion = 2 # Row increased, go DOWN\n",
        "      elif position[1] > future_position[1]:\n",
        "        action = 3 # Col decreased, go LEFT\n",
        "      elif position[1] < future_position[1]:\n",
        "        action = 1 # Col increased, go RIGHT\n",
        "      else:\n",
        "        action = 10 # Special value for NO ACTION\n",
        "\n",
        "      # Draw triangle based on action\n",
        "      if action == 0:\n",
        "        line1, line2, line3 = makeTriangle(STEP/4, 60, 90)\n",
        "      elif action == 1:\n",
        "        line1, line2, line3 = makeTriangle(STEP/4, 60, 180)\n",
        "      elif action == 2:\n",
        "        line1, line2, line3 = makeTriangle(STEP/4, 60, 270)\n",
        "      elif action == 3:\n",
        "        line1, line2, line3 = makeTriangle(STEP/4, 60, 0)\n",
        "\n",
        "      new_y = future_position[0] * STEP  + STEP\n",
        "      new_x = future_position[1] * STEP  + STEP  \n",
        "\n",
        "      # print(\"action: \", action)\n",
        "      # print(\"new_y: \", new_y)\n",
        "      # print(\"new_x: \", new_x)\n",
        "\n",
        "      if action < 9:\n",
        "        line1[0] = line1[0] + new_y + STEP/2\n",
        "        line1[1] = line1[1] + new_x + STEP/2\n",
        "        line2[0] = line2[0] + new_y + STEP/2\n",
        "        line2[1] = line2[1] + new_x + STEP/2\n",
        "        line3[0] = line3[0] + new_y + STEP/2\n",
        "        line3[1] = line3[1] + new_x + STEP/2\n",
        "        pygame.draw.lines(screen, color, points=[line3, line1, line2], width=3, closed=False)\n",
        "        player_postition = [new_y, new_x]\n",
        "\n",
        "  draw_full_traj(full, color=(20, 20, 20))\n",
        "\n",
        "  view = pygame.surfarray.array3d(screen)\n",
        "  #  convert from (width, height, channel) to (height, width, channel)\n",
        "  #view = view.transpose([1, 0, 2])\n",
        "  #  convert from rgb to bgr\n",
        "  img_bgr = cv2.cvtColor(view, cv2.COLOR_RGB2BGR)\n",
        "  #Display image, clear cell every 0.5 seconds\n",
        "  cv2_imshow(img_bgr)\n"
      ],
      "metadata": {
        "id": "Atatm5rUvPvL"
      },
      "execution_count": 654,
      "outputs": []
    },
    {
      "cell_type": "markdown",
      "source": [
        "# 2. Functions to Load real Data"
      ],
      "metadata": {
        "id": "CM3540l2iNWq"
      }
    },
    {
      "cell_type": "markdown",
      "source": [
        "## 2.1 Connect to Google Drive"
      ],
      "metadata": {
        "id": "8_O1slPdimrh"
      }
    },
    {
      "cell_type": "code",
      "source": [
        "from google.colab import drive\n",
        "drive.mount('/content/gdrive')"
      ],
      "metadata": {
        "id": "T2os0_MSF9Vj",
        "colab": {
          "base_uri": "https://localhost:8080/"
        },
        "outputId": "6528435a-f3d4-4077-b43b-a17f39dfa548"
      },
      "execution_count": 655,
      "outputs": [
        {
          "output_type": "stream",
          "name": "stdout",
          "text": [
            "Drive already mounted at /content/gdrive; to attempt to forcibly remount, call drive.mount(\"/content/gdrive\", force_remount=True).\n"
          ]
        }
      ]
    },
    {
      "cell_type": "code",
      "source": [
        "!ls"
      ],
      "metadata": {
        "colab": {
          "base_uri": "https://localhost:8080/"
        },
        "id": "oww4h3NOpxAN",
        "outputId": "e2c28097-0242-4077-b813-6dde0e433074"
      },
      "execution_count": 656,
      "outputs": [
        {
          "output_type": "stream",
          "name": "stdout",
          "text": [
            "gdrive\trendering_dir  sample_data\n"
          ]
        }
      ]
    },
    {
      "cell_type": "code",
      "source": [
        "rendering_dir = \"gdrive/MyDrive/Dissertation/Render/\"\n",
        "!ls \"gdrive/MyDrive/Dissertation/Render/\""
      ],
      "metadata": {
        "colab": {
          "base_uri": "https://localhost:8080/"
        },
        "id": "Pob1CYH1pjN3",
        "outputId": "6597d75f-b409-4907-b18e-81cf6fe9d3e2"
      },
      "execution_count": 657,
      "outputs": [
        {
          "output_type": "stream",
          "name": "stdout",
          "text": [
            " full_traj.csv\t predicted_traj.csv  'Rendering 2'   simple_map.csv\n",
            " init_traj.csv\t'Rendering 1'\t     'Rendering 3'\n"
          ]
        }
      ]
    },
    {
      "cell_type": "markdown",
      "source": [
        "## 2.2 Functions to read data\n"
      ],
      "metadata": {
        "id": "ieN27Jjip_-U"
      }
    },
    {
      "cell_type": "code",
      "source": [
        "import pandas as pd\n",
        "\n",
        "simple_map = pd.read_csv(rendering_dir + 'simple_map.csv')  # Load map\n",
        "#simple_map = simple_map.drop(0, axis=0)                     # Remove headers\n",
        "simple_map.shape, simple_map"
      ],
      "metadata": {
        "colab": {
          "base_uri": "https://localhost:8080/"
        },
        "id": "LR7BH1uBqFUT",
        "outputId": "038b864b-1581-4cbb-dc65-ac1c8eec3118"
      },
      "execution_count": 658,
      "outputs": [
        {
          "output_type": "execute_result",
          "data": {
            "text/plain": [
              "((12, 12),     0   1  2  3  4  5  6  7  8  9  10  11\n",
              " 0   1   1  1  1  1  1  1  1  1  1   1   1\n",
              " 1   0   0  0  0  0  0  0  3  0  0   0   0\n",
              " 2   1   0  1  1  1  1  1  1  1  1   1   1\n",
              " 3   1  10  1  1  1  1  1  1  1  1   1   1\n",
              " 4   0   0  0  0  0  0  0  0  0  0   0   0\n",
              " 5   1   1  1  1  0  1  1  0  1  1   1   1\n",
              " 6   1   1  1  1  0  1  1  0  1  1   1   1\n",
              " 7   0   0  0  0  0  0  0  0  4  0   0   2\n",
              " 8   1   0  1  1  1  1  1  1  1  1   1   1\n",
              " 9   1   0  1  1  1  1  1  1  1  1   1   1\n",
              " 10  1   0  0  0  0  0  0  0  0  0   0   0\n",
              " 11  1   0  1  1  5  1  1  1  1  1   0   1)"
            ]
          },
          "metadata": {},
          "execution_count": 658
        }
      ]
    },
    {
      "cell_type": "code",
      "source": [
        "import numpy as np\n",
        "arr = np.array(simple_map)"
      ],
      "metadata": {
        "id": "la65-FYS9H4w"
      },
      "execution_count": 659,
      "outputs": []
    },
    {
      "cell_type": "code",
      "source": [
        "arr = np.array(simple_map)\n",
        "arr"
      ],
      "metadata": {
        "colab": {
          "base_uri": "https://localhost:8080/"
        },
        "id": "dP3I4E7U9e-H",
        "outputId": "ad5963ef-98af-4da1-e383-47a40af71028"
      },
      "execution_count": 660,
      "outputs": [
        {
          "output_type": "execute_result",
          "data": {
            "text/plain": [
              "array([[ 1,  1,  1,  1,  1,  1,  1,  1,  1,  1,  1,  1],\n",
              "       [ 0,  0,  0,  0,  0,  0,  0,  3,  0,  0,  0,  0],\n",
              "       [ 1,  0,  1,  1,  1,  1,  1,  1,  1,  1,  1,  1],\n",
              "       [ 1, 10,  1,  1,  1,  1,  1,  1,  1,  1,  1,  1],\n",
              "       [ 0,  0,  0,  0,  0,  0,  0,  0,  0,  0,  0,  0],\n",
              "       [ 1,  1,  1,  1,  0,  1,  1,  0,  1,  1,  1,  1],\n",
              "       [ 1,  1,  1,  1,  0,  1,  1,  0,  1,  1,  1,  1],\n",
              "       [ 0,  0,  0,  0,  0,  0,  0,  0,  4,  0,  0,  2],\n",
              "       [ 1,  0,  1,  1,  1,  1,  1,  1,  1,  1,  1,  1],\n",
              "       [ 1,  0,  1,  1,  1,  1,  1,  1,  1,  1,  1,  1],\n",
              "       [ 1,  0,  0,  0,  0,  0,  0,  0,  0,  0,  0,  0],\n",
              "       [ 1,  0,  1,  1,  5,  1,  1,  1,  1,  1,  0,  1]])"
            ]
          },
          "metadata": {},
          "execution_count": 660
        }
      ]
    },
    {
      "cell_type": "code",
      "source": [
        "import re \n",
        "\n",
        "initial = np.array(pd.read_csv(rendering_dir + 'init_traj.csv'))\n",
        "initial_2 = initial.copy()\n",
        "for i in range(initial.shape[0]):\n",
        "  for j in range(initial.shape[1]):\n",
        "    x = re.findall(\"[0-9]+\", initial[i, j]) \n",
        "    initial_2[i, j] = int(x[0])\n",
        "\n",
        "initial_2"
      ],
      "metadata": {
        "colab": {
          "base_uri": "https://localhost:8080/"
        },
        "id": "R_2ZDBBV_Osr",
        "outputId": "9bf02deb-aecb-4797-9dea-06b0f7c80d5a"
      },
      "execution_count": 661,
      "outputs": [
        {
          "output_type": "execute_result",
          "data": {
            "text/plain": [
              "array([[3, 1],\n",
              "       [4, 1],\n",
              "       [4, 2],\n",
              "       [4, 3],\n",
              "       [4, 4],\n",
              "       [5, 4],\n",
              "       [6, 4],\n",
              "       [7, 4]], dtype=object)"
            ]
          },
          "metadata": {},
          "execution_count": 661
        }
      ]
    },
    {
      "cell_type": "code",
      "source": [
        "pred = np.array(pd.read_csv(rendering_dir + 'predicted_traj.csv'))\n",
        "pred_2 = pred.copy()\n",
        "for i in range(pred.shape[0]):\n",
        "  for j in range(pred.shape[1]):\n",
        "\n",
        "    if pred[i, j][0] == '[':\n",
        "      x = re.findall(\"[0-9]+\", pred[i, j]) \n",
        "      pred_2[i, j] = int(x[0])\n",
        "    else:\n",
        "      pred_2[i, j] = int(pred[i, j][0])\n",
        "\n",
        "pred_2"
      ],
      "metadata": {
        "colab": {
          "base_uri": "https://localhost:8080/"
        },
        "id": "VBt25PQUKHcJ",
        "outputId": "9587baf9-3f67-4230-d2ba-15fdc994e36d"
      },
      "execution_count": 662,
      "outputs": [
        {
          "output_type": "execute_result",
          "data": {
            "text/plain": [
              "array([[7, 3],\n",
              "       [7, 2],\n",
              "       [7, 1],\n",
              "       [7, 2],\n",
              "       [7, 1],\n",
              "       [7, 0],\n",
              "       [7, 0],\n",
              "       [8, 0]], dtype=object)"
            ]
          },
          "metadata": {},
          "execution_count": 662
        }
      ]
    },
    {
      "cell_type": "code",
      "source": [
        "full = np.array(pd.read_csv(rendering_dir + 'full_traj.csv'))\n",
        "full_2 = full.copy()\n",
        "for i in range(full.shape[0]):\n",
        "  for j in range(full.shape[1]):\n",
        "\n",
        "    if full[i, j][0] == '[':\n",
        "      x = re.findall(\"[0-9]+\", full[i, j]) \n",
        "      full_2[i, j] = int(x[0])\n",
        "    else:\n",
        "      full_2[i, j] = int(full[i, j][0])\n",
        "\n",
        "full_2"
      ],
      "metadata": {
        "colab": {
          "base_uri": "https://localhost:8080/"
        },
        "id": "6QuxTOGdOBJG",
        "outputId": "c02ca756-29a9-47c6-f1ee-2b500631e501"
      },
      "execution_count": 663,
      "outputs": [
        {
          "output_type": "execute_result",
          "data": {
            "text/plain": [
              "array([[3, 1],\n",
              "       [4, 1],\n",
              "       [4, 2],\n",
              "       [4, 3],\n",
              "       [4, 4],\n",
              "       [5, 4],\n",
              "       [6, 4],\n",
              "       [7, 4],\n",
              "       [7, 3],\n",
              "       [7, 2],\n",
              "       [7, 1],\n",
              "       [8, 1],\n",
              "       [9, 1],\n",
              "       [10, 1],\n",
              "       [10, 2]], dtype=object)"
            ]
          },
          "metadata": {},
          "execution_count": 663
        }
      ]
    },
    {
      "cell_type": "code",
      "source": [
        "ROWS = 12\n",
        "COLS = 12\n",
        "draw_pandas_map(ROWS, COLS, simple_map, initial_2, pred_2)\n",
        "draw_pandas_map_full(ROWS, COLS, simple_map, full_2)"
      ],
      "metadata": {
        "colab": {
          "base_uri": "https://localhost:8080/",
          "height": 874
        },
        "id": "oMu-xMpluFtC",
        "outputId": "d77a7305-113f-49b3-b5aa-c6ac4e43beea"
      },
      "execution_count": 664,
      "outputs": [
        {
          "output_type": "stream",
          "name": "stdout",
          "text": [
            "No prev position\n"
          ]
        },
        {
          "output_type": "display_data",
          "data": {
            "text/plain": [
              "<PIL.Image.Image image mode=RGB size=420x420 at 0x7F70ECFE5350>"
            ],
            "image/png": "[encoded data removed]"
          },
          "metadata": {}
        },
        {
          "output_type": "display_data",
          "data": {
            "text/plain": [
              "<PIL.Image.Image image mode=RGB size=420x420 at 0x7F70ECE6E310>"
            ],
            "image/png": "[encoded data removed]"
          },
          "metadata": {}
        }
      ]
    }
  ]
}